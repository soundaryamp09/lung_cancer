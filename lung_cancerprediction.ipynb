{
  "nbformat": 4,
  "nbformat_minor": 0,
  "metadata": {
    "colab": {
      "provenance": []
    },
    "kernelspec": {
      "name": "python3",
      "display_name": "Python 3"
    },
    "language_info": {
      "name": "python"
    }
  },
  "cells": [
    {
      "cell_type": "markdown",
      "source": [
        "lung disease preddiction using machiene learning algorithims"
      ],
      "metadata": {
        "id": "rDutWe9l2UeJ"
      }
    },
    {
      "cell_type": "markdown",
      "source": [
        "1) using navey bayes"
      ],
      "metadata": {
        "id": "Vjjq8fLs3MYp"
      }
    },
    {
      "cell_type": "code",
      "source": [
        "import numpy as np\n",
        "import pandas as pd\n",
        "from sklearn.model_selection import train_test_split\n",
        "from sklearn.naive_bayes import GaussianNB\n",
        "from sklearn.metrics import accuracy_score\n",
        "import matplotlib.pyplot as plt\n",
        "import seaborn as sns\n",
        "df = pd.read_csv(\"lung.csv\")\n",
        "df.head()\n",
        "x=df.drop('LUNG CANCER',axis=1)\n",
        "y=df['LUNG CANCER']\n",
        "x_train,x_test,y_train,y_test = train_test_split(x,y,test_size=0.25,random_state=42)\n",
        "model=GaussianNB()\n",
        "model.fit(x_train,y_train)\n",
        "print(x_test)\n",
        "y_pred = model.predict(x_test)\n",
        "print(y_pred)\n",
        "y_score=model.score(x_test,y_test)\n",
        "print( y_score)"
      ],
      "metadata": {
        "colab": {
          "base_uri": "https://localhost:8080/"
        },
        "id": "EQMg6VhU26dc",
        "outputId": "7f98d336-c9c2-4c08-eaf4-4379227ab899"
      },
      "execution_count": 6,
      "outputs": [
        {
          "output_type": "stream",
          "name": "stdout",
          "text": [
            "     GENDER  AGE  SMOKING  YELLOW_FINGERS  ANXIETY  PEER_PRESSURE  \\\n",
            "288       0   61        1               2        2              2   \n",
            "9         1   53        2               2        2              2   \n",
            "57        1   73        1               1        1              1   \n",
            "60        1   70        1               2        1              2   \n",
            "25        1   65        1               2        2              1   \n",
            "..      ...  ...      ...             ...      ...            ...   \n",
            "30        0   57        2               2        1              1   \n",
            "22        0   21        2               1        1              1   \n",
            "262       0   67        1               2        1              1   \n",
            "56        0   63        1               2        1              2   \n",
            "148       1   70        2               1        1              1   \n",
            "\n",
            "     CHRONIC DISEASE  FATIGUE   ALLERGY   WHEEZING  ALCOHOL CONSUMING  \\\n",
            "288                1         1         2         2                  1   \n",
            "9                  2         1         2         1                  2   \n",
            "57                 2         1         2         1                  2   \n",
            "60                 2         2         2         2                  2   \n",
            "25                 1         2         1         2                  2   \n",
            "..               ...       ...       ...       ...                ...   \n",
            "30                 1         1         1         1                  1   \n",
            "22                 2         2         2         1                  1   \n",
            "262                1         1         1         2                  1   \n",
            "56                 1         2         1         1                  1   \n",
            "148                1         2         2         2                  2   \n",
            "\n",
            "     COUGHING  SHORTNESS OF BREATH  SWALLOWING DIFFICULTY  CHEST PAIN  \n",
            "288         2                    1                      2           1  \n",
            "9           1                    1                      2           2  \n",
            "57          2                    2                      2           2  \n",
            "60          2                    1                      2           2  \n",
            "25          2                    2                      2           2  \n",
            "..        ...                  ...                    ...         ...  \n",
            "30          1                    2                      1           1  \n",
            "22          1                    2                      1           1  \n",
            "262         2                    2                      1           1  \n",
            "56          2                    2                      1           2  \n",
            "148         2                    2                      1           2  \n",
            "\n",
            "[78 rows x 15 columns]\n",
            "[1 1 1 1 1 1 1 1 1 1 1 1 1 1 1 1 1 0 1 1 0 1 1 1 1 1 1 1 1 1 1 1 1 1 1 1 1\n",
            " 1 1 1 1 1 1 1 1 1 1 1 0 1 1 1 1 1 1 1 1 1 1 1 1 1 1 1 1 1 1 1 1 1 1 1 1 0\n",
            " 1 0 1 1]\n",
            "0.9487179487179487\n"
          ]
        }
      ]
    },
    {
      "cell_type": "markdown",
      "source": [
        "2) using decission tree"
      ],
      "metadata": {
        "id": "0_xxuJq05dT2"
      }
    },
    {
      "cell_type": "code",
      "source": [
        "import numpy as np\n",
        "import pandas as pd\n",
        "from sklearn.model_selection import train_test_split\n",
        "from sklearn.tree import DecisionTreeClassifier\n",
        "from sklearn.metrics import accuracy_score\n",
        "import matplotlib.pyplot as plt\n",
        "import seaborn as sns\n",
        "df = pd.read_csv(\"lung.csv\")\n",
        "df.head()\n",
        "x=df.drop('LUNG CANCER',axis=1)\n",
        "y=df['LUNG CANCER']\n",
        "x_train,x_test,y_train,y_test = train_test_split(x,y,test_size=0.25,random_state=42)\n",
        "model=DecisionTreeClassifier(criterion = 'entropy', random_state = 0)\n",
        "model.fit(x_train,y_train)\n",
        "print(x_test)\n",
        "y_pred = model.predict(x_test)\n",
        "print(y_pred)\n",
        "y_score=model.score(x_test,y_test)\n",
        "y_score"
      ],
      "metadata": {
        "colab": {
          "base_uri": "https://localhost:8080/"
        },
        "id": "tHV5D3No5qlN",
        "outputId": "2d357693-444f-43c6-eda4-7da57d023fe7"
      },
      "execution_count": 8,
      "outputs": [
        {
          "output_type": "stream",
          "name": "stdout",
          "text": [
            "     GENDER  AGE  SMOKING  YELLOW_FINGERS  ANXIETY  PEER_PRESSURE  \\\n",
            "288       0   61        1               2        2              2   \n",
            "9         1   53        2               2        2              2   \n",
            "57        1   73        1               1        1              1   \n",
            "60        1   70        1               2        1              2   \n",
            "25        1   65        1               2        2              1   \n",
            "..      ...  ...      ...             ...      ...            ...   \n",
            "30        0   57        2               2        1              1   \n",
            "22        0   21        2               1        1              1   \n",
            "262       0   67        1               2        1              1   \n",
            "56        0   63        1               2        1              2   \n",
            "148       1   70        2               1        1              1   \n",
            "\n",
            "     CHRONIC DISEASE  FATIGUE   ALLERGY   WHEEZING  ALCOHOL CONSUMING  \\\n",
            "288                1         1         2         2                  1   \n",
            "9                  2         1         2         1                  2   \n",
            "57                 2         1         2         1                  2   \n",
            "60                 2         2         2         2                  2   \n",
            "25                 1         2         1         2                  2   \n",
            "..               ...       ...       ...       ...                ...   \n",
            "30                 1         1         1         1                  1   \n",
            "22                 2         2         2         1                  1   \n",
            "262                1         1         1         2                  1   \n",
            "56                 1         2         1         1                  1   \n",
            "148                1         2         2         2                  2   \n",
            "\n",
            "     COUGHING  SHORTNESS OF BREATH  SWALLOWING DIFFICULTY  CHEST PAIN  \n",
            "288         2                    1                      2           1  \n",
            "9           1                    1                      2           2  \n",
            "57          2                    2                      2           2  \n",
            "60          2                    1                      2           2  \n",
            "25          2                    2                      2           2  \n",
            "..        ...                  ...                    ...         ...  \n",
            "30          1                    2                      1           1  \n",
            "22          1                    2                      1           1  \n",
            "262         2                    2                      1           1  \n",
            "56          2                    2                      1           2  \n",
            "148         2                    2                      1           2  \n",
            "\n",
            "[78 rows x 15 columns]\n",
            "[1 1 1 1 1 1 1 1 1 1 1 1 1 1 1 1 1 1 1 1 1 1 1 1 1 1 1 1 1 1 1 1 1 1 1 1 1\n",
            " 1 1 1 1 1 1 1 1 1 1 1 0 1 1 1 1 1 1 1 1 1 1 1 1 1 1 1 1 1 1 1 1 1 1 1 1 0\n",
            " 0 0 1 1]\n"
          ]
        },
        {
          "output_type": "execute_result",
          "data": {
            "text/plain": [
              "0.9871794871794872"
            ]
          },
          "metadata": {},
          "execution_count": 8
        }
      ]
    },
    {
      "cell_type": "markdown",
      "source": [
        "3) using random forest"
      ],
      "metadata": {
        "id": "cHN7vXc953_C"
      }
    },
    {
      "cell_type": "code",
      "source": [
        "import numpy as np\n",
        "import pandas as pd\n",
        "from sklearn.model_selection import train_test_split\n",
        "from sklearn.ensemble import RandomForestRegressor\n",
        "from sklearn.metrics import accuracy_score\n",
        "import matplotlib.pyplot as plt\n",
        "import seaborn as sns\n",
        "df = pd.read_csv(\"lung.csv\")\n",
        "df.head()\n",
        "x=df.drop('LUNG CANCER',axis=1)\n",
        "y=df['LUNG CANCER']\n",
        "x_train,x_test,y_train,y_test = train_test_split(x,y,test_size=0.25,random_state=42)\n",
        "model=RandomForestRegressor()\n",
        "model.fit(x_train,y_train)\n",
        "print(x_test)\n",
        "y_pred = model.predict(x_test)\n",
        "print(y_pred)\n",
        "y_score=model.score(x_test,y_test)\n",
        "y_score"
      ],
      "metadata": {
        "colab": {
          "base_uri": "https://localhost:8080/"
        },
        "id": "4qTP6HDp57_y",
        "outputId": "40189877-af8b-4b29-8a1e-42ed48cba9ff"
      },
      "execution_count": 9,
      "outputs": [
        {
          "output_type": "stream",
          "name": "stdout",
          "text": [
            "     GENDER  AGE  SMOKING  YELLOW_FINGERS  ANXIETY  PEER_PRESSURE  \\\n",
            "288       0   61        1               2        2              2   \n",
            "9         1   53        2               2        2              2   \n",
            "57        1   73        1               1        1              1   \n",
            "60        1   70        1               2        1              2   \n",
            "25        1   65        1               2        2              1   \n",
            "..      ...  ...      ...             ...      ...            ...   \n",
            "30        0   57        2               2        1              1   \n",
            "22        0   21        2               1        1              1   \n",
            "262       0   67        1               2        1              1   \n",
            "56        0   63        1               2        1              2   \n",
            "148       1   70        2               1        1              1   \n",
            "\n",
            "     CHRONIC DISEASE  FATIGUE   ALLERGY   WHEEZING  ALCOHOL CONSUMING  \\\n",
            "288                1         1         2         2                  1   \n",
            "9                  2         1         2         1                  2   \n",
            "57                 2         1         2         1                  2   \n",
            "60                 2         2         2         2                  2   \n",
            "25                 1         2         1         2                  2   \n",
            "..               ...       ...       ...       ...                ...   \n",
            "30                 1         1         1         1                  1   \n",
            "22                 2         2         2         1                  1   \n",
            "262                1         1         1         2                  1   \n",
            "56                 1         2         1         1                  1   \n",
            "148                1         2         2         2                  2   \n",
            "\n",
            "     COUGHING  SHORTNESS OF BREATH  SWALLOWING DIFFICULTY  CHEST PAIN  \n",
            "288         2                    1                      2           1  \n",
            "9           1                    1                      2           2  \n",
            "57          2                    2                      2           2  \n",
            "60          2                    1                      2           2  \n",
            "25          2                    2                      2           2  \n",
            "..        ...                  ...                    ...         ...  \n",
            "30          1                    2                      1           1  \n",
            "22          1                    2                      1           1  \n",
            "262         2                    2                      1           1  \n",
            "56          2                    2                      1           2  \n",
            "148         2                    2                      1           2  \n",
            "\n",
            "[78 rows x 15 columns]\n",
            "[0.99       0.99       0.97       0.99       1.         0.87\n",
            " 0.89       1.         0.97       0.93       0.95666667 1.\n",
            " 0.96       0.93083333 0.95       0.87       1.         0.79\n",
            " 1.         0.89       0.53       1.         0.8        0.98\n",
            " 1.         0.77       0.66       0.62       0.98       1.\n",
            " 0.95       0.71       1.         0.97       1.         1.\n",
            " 1.         0.92       0.69       1.         0.92       1.\n",
            " 1.         0.96       0.97       0.98666667 0.98       0.97\n",
            " 0.03       1.         0.89       0.99       0.99       0.98\n",
            " 1.         0.89       0.9875     0.95       0.96       0.90666667\n",
            " 1.         1.         0.74       0.83       0.99       1.\n",
            " 0.965      0.98       0.92       0.96       1.         0.74\n",
            " 1.         0.14       0.34       0.33       0.87       1.        ]\n"
          ]
        },
        {
          "output_type": "execute_result",
          "data": {
            "text/plain": [
              "0.6178359132420091"
            ]
          },
          "metadata": {},
          "execution_count": 9
        }
      ]
    },
    {
      "cell_type": "markdown",
      "source": [
        "4) using linear reggresion\n"
      ],
      "metadata": {
        "id": "3txlt3_B5_oU"
      }
    },
    {
      "cell_type": "code",
      "source": [
        "import numpy as np\n",
        "import pandas as pd\n",
        "from sklearn.model_selection import train_test_split\n",
        "from sklearn import linear_model\n",
        "from sklearn.metrics import accuracy_score\n",
        "import matplotlib.pyplot as plt\n",
        "import seaborn as sns\n",
        "df = pd.read_csv(\"lung.csv\")\n",
        "df.head()\n",
        "x=df.drop('LUNG CANCER',axis=1)\n",
        "y=df['LUNG CANCER']\n",
        "x_train,x_test,y_train,y_test = train_test_split(x,y,test_size=0.25,random_state=42)\n",
        "model=linear_model.LinearRegression()\n",
        "model.fit(x_train,y_train)\n",
        "print(x_test)\n",
        "y_pred = model.predict(x_test)\n",
        "print(y_pred)\n",
        "y_score=model.score(x_test,y_test)\n",
        "y_score"
      ],
      "metadata": {
        "colab": {
          "base_uri": "https://localhost:8080/"
        },
        "id": "zYqV7hf46Gdj",
        "outputId": "2847d2c2-8d29-4014-9a3c-bdbff1885347"
      },
      "execution_count": 11,
      "outputs": [
        {
          "output_type": "stream",
          "name": "stdout",
          "text": [
            "     GENDER  AGE  SMOKING  YELLOW_FINGERS  ANXIETY  PEER_PRESSURE  \\\n",
            "288       0   61        1               2        2              2   \n",
            "9         1   53        2               2        2              2   \n",
            "57        1   73        1               1        1              1   \n",
            "60        1   70        1               2        1              2   \n",
            "25        1   65        1               2        2              1   \n",
            "..      ...  ...      ...             ...      ...            ...   \n",
            "30        0   57        2               2        1              1   \n",
            "22        0   21        2               1        1              1   \n",
            "262       0   67        1               2        1              1   \n",
            "56        0   63        1               2        1              2   \n",
            "148       1   70        2               1        1              1   \n",
            "\n",
            "     CHRONIC DISEASE  FATIGUE   ALLERGY   WHEEZING  ALCOHOL CONSUMING  \\\n",
            "288                1         1         2         2                  1   \n",
            "9                  2         1         2         1                  2   \n",
            "57                 2         1         2         1                  2   \n",
            "60                 2         2         2         2                  2   \n",
            "25                 1         2         1         2                  2   \n",
            "..               ...       ...       ...       ...                ...   \n",
            "30                 1         1         1         1                  1   \n",
            "22                 2         2         2         1                  1   \n",
            "262                1         1         1         2                  1   \n",
            "56                 1         2         1         1                  1   \n",
            "148                1         2         2         2                  2   \n",
            "\n",
            "     COUGHING  SHORTNESS OF BREATH  SWALLOWING DIFFICULTY  CHEST PAIN  \n",
            "288         2                    1                      2           1  \n",
            "9           1                    1                      2           2  \n",
            "57          2                    2                      2           2  \n",
            "60          2                    1                      2           2  \n",
            "25          2                    2                      2           2  \n",
            "..        ...                  ...                    ...         ...  \n",
            "30          1                    2                      1           1  \n",
            "22          1                    2                      1           1  \n",
            "262         2                    2                      1           1  \n",
            "56          2                    2                      1           2  \n",
            "148         2                    2                      1           2  \n",
            "\n",
            "[78 rows x 15 columns]\n",
            "[0.84335053 1.07224116 0.86260116 1.26451293 1.02741379 0.81139802\n",
            " 0.97749527 0.9547595  0.7878766  0.85591478 0.70041038 1.26563646\n",
            " 0.93307355 0.72282183 0.9184645  0.65426639 0.88877119 0.61140005\n",
            " 1.09854083 0.80517578 0.4953617  0.96615976 0.59883619 0.95884174\n",
            " 1.20174438 0.81225269 0.71385208 0.67652677 0.87724706 1.27459999\n",
            " 0.82901283 0.71641609 1.14814813 0.87704184 1.21139574 1.20601774\n",
            " 1.32282992 0.91760983 0.63733104 0.90268086 0.95644894 1.26090767\n",
            " 0.99778583 0.83003911 1.05108376 0.95876003 1.09426747 0.96546\n",
            " 0.41481405 0.94108476 0.83858708 0.85531593 0.99180313 0.90712562\n",
            " 0.99949517 0.83423461 0.89534083 0.86999495 0.84139327 0.69699169\n",
            " 1.11855126 1.1466574  0.77876138 0.78617139 0.82013632 1.03692025\n",
            " 0.99629804 0.92615654 0.95194714 1.21311446 0.98240174 0.77961605\n",
            " 0.97398322 0.35580319 0.62007953 0.45366599 0.68878069 0.95305016]\n"
          ]
        },
        {
          "output_type": "execute_result",
          "data": {
            "text/plain": [
              "0.12563238276181754"
            ]
          },
          "metadata": {},
          "execution_count": 11
        }
      ]
    },
    {
      "cell_type": "markdown",
      "source": [
        "5) using knn (kth nearest neighbour)\n"
      ],
      "metadata": {
        "id": "uonbxtHn6WAO"
      }
    },
    {
      "cell_type": "code",
      "source": [
        "import numpy as np\n",
        "import pandas as pd\n",
        "from sklearn.model_selection import train_test_split\n",
        "from sklearn.neighbors import KNeighborsClassifier\n",
        "from sklearn.metrics import accuracy_score\n",
        "import matplotlib.pyplot as plt\n",
        "import seaborn as sns\n",
        "df = pd.read_csv(\"lung.csv\")\n",
        "df.head()\n",
        "x=df.drop('LUNG CANCER',axis=1)\n",
        "y=df['LUNG CANCER']\n",
        "x_train,x_test,y_train,y_test = train_test_split(x,y,test_size=0.25,random_state=42)\n",
        "model=KNeighborsClassifier(n_neighbors=5, metric='minkowski', p=2 )  \n",
        "model.fit(x_train,y_train)\n",
        "print(x_test)\n",
        "y_pred = model.predict(x_test)\n",
        "print(y_pred)\n",
        "y_score=model.score(x_test,y_test)\n",
        "y_score"
      ],
      "metadata": {
        "colab": {
          "base_uri": "https://localhost:8080/"
        },
        "id": "lL8Nyx046bKs",
        "outputId": "a0e5fb1c-c9b1-4862-9aad-4ea8b80a0153"
      },
      "execution_count": 13,
      "outputs": [
        {
          "output_type": "stream",
          "name": "stdout",
          "text": [
            "     GENDER  AGE  SMOKING  YELLOW_FINGERS  ANXIETY  PEER_PRESSURE  \\\n",
            "288       0   61        1               2        2              2   \n",
            "9         1   53        2               2        2              2   \n",
            "57        1   73        1               1        1              1   \n",
            "60        1   70        1               2        1              2   \n",
            "25        1   65        1               2        2              1   \n",
            "..      ...  ...      ...             ...      ...            ...   \n",
            "30        0   57        2               2        1              1   \n",
            "22        0   21        2               1        1              1   \n",
            "262       0   67        1               2        1              1   \n",
            "56        0   63        1               2        1              2   \n",
            "148       1   70        2               1        1              1   \n",
            "\n",
            "     CHRONIC DISEASE  FATIGUE   ALLERGY   WHEEZING  ALCOHOL CONSUMING  \\\n",
            "288                1         1         2         2                  1   \n",
            "9                  2         1         2         1                  2   \n",
            "57                 2         1         2         1                  2   \n",
            "60                 2         2         2         2                  2   \n",
            "25                 1         2         1         2                  2   \n",
            "..               ...       ...       ...       ...                ...   \n",
            "30                 1         1         1         1                  1   \n",
            "22                 2         2         2         1                  1   \n",
            "262                1         1         1         2                  1   \n",
            "56                 1         2         1         1                  1   \n",
            "148                1         2         2         2                  2   \n",
            "\n",
            "     COUGHING  SHORTNESS OF BREATH  SWALLOWING DIFFICULTY  CHEST PAIN  \n",
            "288         2                    1                      2           1  \n",
            "9           1                    1                      2           2  \n",
            "57          2                    2                      2           2  \n",
            "60          2                    1                      2           2  \n",
            "25          2                    2                      2           2  \n",
            "..        ...                  ...                    ...         ...  \n",
            "30          1                    2                      1           1  \n",
            "22          1                    2                      1           1  \n",
            "262         2                    2                      1           1  \n",
            "56          2                    2                      1           2  \n",
            "148         2                    2                      1           2  \n",
            "\n",
            "[78 rows x 15 columns]\n",
            "[1 1 1 1 1 1 1 1 1 1 1 1 1 1 1 0 1 1 1 1 0 1 1 1 1 1 1 1 1 1 1 1 1 1 1 1 1\n",
            " 1 1 1 1 1 1 1 1 1 1 1 0 1 1 1 1 1 1 1 1 1 1 1 1 1 1 1 1 1 1 1 1 1 1 1 1 0\n",
            " 1 1 1 1]\n"
          ]
        },
        {
          "output_type": "execute_result",
          "data": {
            "text/plain": [
              "0.9358974358974359"
            ]
          },
          "metadata": {},
          "execution_count": 13
        }
      ]
    }
  ]
}